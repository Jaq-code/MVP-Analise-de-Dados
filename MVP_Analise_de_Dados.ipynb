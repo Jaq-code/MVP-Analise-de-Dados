{
  "cells": [
    {
      "cell_type": "markdown",
      "metadata": {
        "id": "view-in-github",
        "colab_type": "text"
      },
      "source": [
        "<a href=\"https://colab.research.google.com/github/Jaq-code/MVP-Analise-de-Dados/blob/main/MVP_Analise_de_Dados.ipynb\" target=\"_parent\"><img src=\"https://colab.research.google.com/assets/colab-badge.svg\" alt=\"Open In Colab\"/></a>"
      ]
    },
    {
      "cell_type": "markdown",
      "id": "59a3f0f1",
      "metadata": {
        "id": "59a3f0f1"
      },
      "source": [
        "# MVP Análise de Dados e Boas Práticas\n",
        "\n",
        "**Nome:** Jaqueline Paciêlo Dantas\n",
        "\n",
        "**Matrícula:** 4052025000151\n",
        "\n",
        "**Dataset:** [Wine Quality df](https://archive.ics.uci.edu/df/186/wine+quality)\n"
      ]
    },
    {
      "cell_type": "markdown",
      "id": "4ceccc44",
      "metadata": {
        "id": "4ceccc44"
      },
      "source": [
        "# Descrição do Problema\n",
        "\n",
        "Este projeto tem como foco a análise e a previsão da qualidade de vinhos tintos e brancos a partir de suas características físico-químicas, como acidez, teor alcoólico, pH e densidade. Cada amostra possui uma nota de qualidade atribuída por especialistas, variando de 0 a 10."
      ]
    },
    {
      "cell_type": "markdown",
      "id": "e8f145d3",
      "metadata": {
        "id": "e8f145d3"
      },
      "source": [
        "## Hipóteses do Problema\n",
        "\n",
        "\n",
        "1. Qual a distribuição de densidade por tipo de vinho?  \n",
        "2. Como a quantidade média de açúcar residual varia de acordo com a qualidade e o tipo de vinho?  \n",
        "3. É possível diferenciar o tipo de vinho com base em álcool e densidade?\n"
      ]
    },
    {
      "cell_type": "markdown",
      "id": "ce023b29",
      "metadata": {
        "id": "ce023b29"
      },
      "source": [
        "## Tipo de Problema\n",
        "\n",
        "Esta análise é do tipo supervisionada, porque usamos a nota da qualidade do vinho para entender como suas características influenciam essa qualidade e para prever a qualidade com base nessas informações."
      ]
    },
    {
      "cell_type": "markdown",
      "id": "2ee85bae",
      "metadata": {
        "id": "2ee85bae"
      },
      "source": [
        "## Atributos do dataframe\n",
        "\n",
        "O conjunto de dados **winequality-red** e **winequality-white**  possuem 12 colunas, com as seguintes descrições:  \n",
        "    \n",
        "- fixed acidity (acidez fixa)\n",
        "- volatile acidity (acidez volátil)\n",
        "- citric acid (ácido cítrico)\n",
        "- residual sugar (açúcar residual)\n",
        "- chlorides (cloretos)\n",
        "- free sulfur dioxide (dióxido de enxofre livre)\n",
        "- total sulfur dioxide (dióxido de enxofre total)\n",
        "- density (densidade)\n",
        "- pH (pH)\n",
        "- sulphates (sulfatos)\n",
        "- alcohol (álcool)\n",
        "- quality (qualidade)"
      ]
    },
    {
      "cell_type": "markdown",
      "id": "5bcf0c28",
      "metadata": {
        "id": "5bcf0c28"
      },
      "source": [
        "# Importação das Bibliotecas Necessárias e Carga de Dados\n",
        "\n",
        "Esta seção consolida todas as importações de bibliotecas necessárias para a análise, visualização e pré-processamento dos dados, bem como o carregamento inicial do df Iris."
      ]
    },
    {
      "cell_type": "code",
      "execution_count": null,
      "id": "b93f8bbc",
      "metadata": {
        "id": "b93f8bbc"
      },
      "outputs": [],
      "source": [
        "import pandas as pd\n",
        "import numpy as np\n",
        "import matplotlib.pyplot as plt\n",
        "import seaborn as sns\n",
        "from sklearn.model_selection import train_test_split\n",
        "from sklearn.preprocessing import StandardScaler, MinMaxScaler, OneHotEncoder\n",
        "from sklearn.decomposition import PCA\n",
        "from sklearn.compose import ColumnTransformer\n",
        "from sklearn.pipeline import Pipeline"
      ]
    },
    {
      "cell_type": "code",
      "execution_count": null,
      "id": "a248f465",
      "metadata": {
        "id": "a248f465"
      },
      "outputs": [],
      "source": [
        "#URLs de importação dos dados\n",
        "url_VinhoTinto =  \"https://archive.ics.uci.edu/ml/machine-learning-databases/wine-quality/winequality-red.csv\"\n",
        "url_VinhoBranco =  \"https://archive.ics.uci.edu/ml/machine-learning-databases/wine-quality/winequality-white.csv\"\n",
        "\n",
        "label_atributos = ['fixed acidity', 'volatile acidity', 'citric acid', 'residual sugar', 'chlorides', 'free sulfur dioxide', 'total sulfur dioxide', 'density', 'pH', 'sulphates', 'alcohol', 'quality', 'type'\n",
        "]\n",
        "\n",
        "#lendo os arquivos .csv\n",
        "df_VinhoTinto = pd.read_csv(url_VinhoTinto, delimiter=';')\n",
        "df_VinhoBranco = pd.read_csv(url_VinhoBranco, delimiter=';')\n",
        "\n",
        "\n",
        "# Adicionando a coluna tipo\n",
        "df_VinhoTinto['tipo'] = 'tinto'\n",
        "df_VinhoBranco['tipo'] = 'branco'\n",
        "\n",
        "# Concatenando os dois datasets\n",
        "df_vinhos = pd.concat([df_VinhoTinto, df_VinhoBranco], ignore_index=True)\n",
        "\n"
      ]
    },
    {
      "cell_type": "code",
      "execution_count": null,
      "id": "47d46777",
      "metadata": {
        "id": "47d46777",
        "outputId": "71e0f36d-ba9b-4da1-9433-eed43e0813c6"
      },
      "outputs": [
        {
          "data": {
            "text/html": [
              "<div>\n",
              "<style scoped>\n",
              "    .dataframe tbody tr th:only-of-type {\n",
              "        vertical-align: middle;\n",
              "    }\n",
              "\n",
              "    .dataframe tbody tr th {\n",
              "        vertical-align: top;\n",
              "    }\n",
              "\n",
              "    .dataframe thead th {\n",
              "        text-align: right;\n",
              "    }\n",
              "</style>\n",
              "<table border=\"1\" class=\"dataframe\">\n",
              "  <thead>\n",
              "    <tr style=\"text-align: right;\">\n",
              "      <th></th>\n",
              "      <th>fixed acidity</th>\n",
              "      <th>volatile acidity</th>\n",
              "      <th>citric acid</th>\n",
              "      <th>residual sugar</th>\n",
              "      <th>chlorides</th>\n",
              "      <th>free sulfur dioxide</th>\n",
              "      <th>total sulfur dioxide</th>\n",
              "      <th>density</th>\n",
              "      <th>pH</th>\n",
              "      <th>sulphates</th>\n",
              "      <th>alcohol</th>\n",
              "      <th>quality</th>\n",
              "      <th>tipo</th>\n",
              "    </tr>\n",
              "  </thead>\n",
              "  <tbody>\n",
              "    <tr>\n",
              "      <th>0</th>\n",
              "      <td>7.4</td>\n",
              "      <td>0.70</td>\n",
              "      <td>0.00</td>\n",
              "      <td>1.9</td>\n",
              "      <td>0.076</td>\n",
              "      <td>11.0</td>\n",
              "      <td>34.0</td>\n",
              "      <td>0.9978</td>\n",
              "      <td>3.51</td>\n",
              "      <td>0.56</td>\n",
              "      <td>9.4</td>\n",
              "      <td>5</td>\n",
              "      <td>tinto</td>\n",
              "    </tr>\n",
              "    <tr>\n",
              "      <th>1</th>\n",
              "      <td>7.8</td>\n",
              "      <td>0.88</td>\n",
              "      <td>0.00</td>\n",
              "      <td>2.6</td>\n",
              "      <td>0.098</td>\n",
              "      <td>25.0</td>\n",
              "      <td>67.0</td>\n",
              "      <td>0.9968</td>\n",
              "      <td>3.20</td>\n",
              "      <td>0.68</td>\n",
              "      <td>9.8</td>\n",
              "      <td>5</td>\n",
              "      <td>tinto</td>\n",
              "    </tr>\n",
              "    <tr>\n",
              "      <th>2</th>\n",
              "      <td>7.8</td>\n",
              "      <td>0.76</td>\n",
              "      <td>0.04</td>\n",
              "      <td>2.3</td>\n",
              "      <td>0.092</td>\n",
              "      <td>15.0</td>\n",
              "      <td>54.0</td>\n",
              "      <td>0.9970</td>\n",
              "      <td>3.26</td>\n",
              "      <td>0.65</td>\n",
              "      <td>9.8</td>\n",
              "      <td>5</td>\n",
              "      <td>tinto</td>\n",
              "    </tr>\n",
              "    <tr>\n",
              "      <th>3</th>\n",
              "      <td>11.2</td>\n",
              "      <td>0.28</td>\n",
              "      <td>0.56</td>\n",
              "      <td>1.9</td>\n",
              "      <td>0.075</td>\n",
              "      <td>17.0</td>\n",
              "      <td>60.0</td>\n",
              "      <td>0.9980</td>\n",
              "      <td>3.16</td>\n",
              "      <td>0.58</td>\n",
              "      <td>9.8</td>\n",
              "      <td>6</td>\n",
              "      <td>tinto</td>\n",
              "    </tr>\n",
              "    <tr>\n",
              "      <th>4</th>\n",
              "      <td>7.4</td>\n",
              "      <td>0.70</td>\n",
              "      <td>0.00</td>\n",
              "      <td>1.9</td>\n",
              "      <td>0.076</td>\n",
              "      <td>11.0</td>\n",
              "      <td>34.0</td>\n",
              "      <td>0.9978</td>\n",
              "      <td>3.51</td>\n",
              "      <td>0.56</td>\n",
              "      <td>9.4</td>\n",
              "      <td>5</td>\n",
              "      <td>tinto</td>\n",
              "    </tr>\n",
              "  </tbody>\n",
              "</table>\n",
              "</div>"
            ],
            "text/plain": [
              "   fixed acidity  volatile acidity  citric acid  residual sugar  chlorides  \\\n",
              "0            7.4              0.70         0.00             1.9      0.076   \n",
              "1            7.8              0.88         0.00             2.6      0.098   \n",
              "2            7.8              0.76         0.04             2.3      0.092   \n",
              "3           11.2              0.28         0.56             1.9      0.075   \n",
              "4            7.4              0.70         0.00             1.9      0.076   \n",
              "\n",
              "   free sulfur dioxide  total sulfur dioxide  density    pH  sulphates  \\\n",
              "0                 11.0                  34.0   0.9978  3.51       0.56   \n",
              "1                 25.0                  67.0   0.9968  3.20       0.68   \n",
              "2                 15.0                  54.0   0.9970  3.26       0.65   \n",
              "3                 17.0                  60.0   0.9980  3.16       0.58   \n",
              "4                 11.0                  34.0   0.9978  3.51       0.56   \n",
              "\n",
              "   alcohol  quality   tipo  \n",
              "0      9.4        5  tinto  \n",
              "1      9.8        5  tinto  \n",
              "2      9.8        5  tinto  \n",
              "3      9.8        6  tinto  \n",
              "4      9.4        5  tinto  "
            ]
          },
          "execution_count": 7,
          "metadata": {},
          "output_type": "execute_result"
        }
      ],
      "source": [
        "#Mostrando as linhas do df VinhoTinto\n",
        "df_VinhoTinto.head()"
      ]
    },
    {
      "cell_type": "code",
      "execution_count": null,
      "id": "a998f811",
      "metadata": {
        "id": "a998f811",
        "outputId": "3d4c86f0-6b23-4a5a-c262-84cf48c2bfc7"
      },
      "outputs": [
        {
          "data": {
            "text/html": [
              "<div>\n",
              "<style scoped>\n",
              "    .dataframe tbody tr th:only-of-type {\n",
              "        vertical-align: middle;\n",
              "    }\n",
              "\n",
              "    .dataframe tbody tr th {\n",
              "        vertical-align: top;\n",
              "    }\n",
              "\n",
              "    .dataframe thead th {\n",
              "        text-align: right;\n",
              "    }\n",
              "</style>\n",
              "<table border=\"1\" class=\"dataframe\">\n",
              "  <thead>\n",
              "    <tr style=\"text-align: right;\">\n",
              "      <th></th>\n",
              "      <th>fixed acidity</th>\n",
              "      <th>volatile acidity</th>\n",
              "      <th>citric acid</th>\n",
              "      <th>residual sugar</th>\n",
              "      <th>chlorides</th>\n",
              "      <th>free sulfur dioxide</th>\n",
              "      <th>total sulfur dioxide</th>\n",
              "      <th>density</th>\n",
              "      <th>pH</th>\n",
              "      <th>sulphates</th>\n",
              "      <th>alcohol</th>\n",
              "      <th>quality</th>\n",
              "      <th>tipo</th>\n",
              "    </tr>\n",
              "  </thead>\n",
              "  <tbody>\n",
              "    <tr>\n",
              "      <th>0</th>\n",
              "      <td>7.0</td>\n",
              "      <td>0.27</td>\n",
              "      <td>0.36</td>\n",
              "      <td>20.7</td>\n",
              "      <td>0.045</td>\n",
              "      <td>45.0</td>\n",
              "      <td>170.0</td>\n",
              "      <td>1.0010</td>\n",
              "      <td>3.00</td>\n",
              "      <td>0.45</td>\n",
              "      <td>8.8</td>\n",
              "      <td>6</td>\n",
              "      <td>branco</td>\n",
              "    </tr>\n",
              "    <tr>\n",
              "      <th>1</th>\n",
              "      <td>6.3</td>\n",
              "      <td>0.30</td>\n",
              "      <td>0.34</td>\n",
              "      <td>1.6</td>\n",
              "      <td>0.049</td>\n",
              "      <td>14.0</td>\n",
              "      <td>132.0</td>\n",
              "      <td>0.9940</td>\n",
              "      <td>3.30</td>\n",
              "      <td>0.49</td>\n",
              "      <td>9.5</td>\n",
              "      <td>6</td>\n",
              "      <td>branco</td>\n",
              "    </tr>\n",
              "    <tr>\n",
              "      <th>2</th>\n",
              "      <td>8.1</td>\n",
              "      <td>0.28</td>\n",
              "      <td>0.40</td>\n",
              "      <td>6.9</td>\n",
              "      <td>0.050</td>\n",
              "      <td>30.0</td>\n",
              "      <td>97.0</td>\n",
              "      <td>0.9951</td>\n",
              "      <td>3.26</td>\n",
              "      <td>0.44</td>\n",
              "      <td>10.1</td>\n",
              "      <td>6</td>\n",
              "      <td>branco</td>\n",
              "    </tr>\n",
              "    <tr>\n",
              "      <th>3</th>\n",
              "      <td>7.2</td>\n",
              "      <td>0.23</td>\n",
              "      <td>0.32</td>\n",
              "      <td>8.5</td>\n",
              "      <td>0.058</td>\n",
              "      <td>47.0</td>\n",
              "      <td>186.0</td>\n",
              "      <td>0.9956</td>\n",
              "      <td>3.19</td>\n",
              "      <td>0.40</td>\n",
              "      <td>9.9</td>\n",
              "      <td>6</td>\n",
              "      <td>branco</td>\n",
              "    </tr>\n",
              "    <tr>\n",
              "      <th>4</th>\n",
              "      <td>7.2</td>\n",
              "      <td>0.23</td>\n",
              "      <td>0.32</td>\n",
              "      <td>8.5</td>\n",
              "      <td>0.058</td>\n",
              "      <td>47.0</td>\n",
              "      <td>186.0</td>\n",
              "      <td>0.9956</td>\n",
              "      <td>3.19</td>\n",
              "      <td>0.40</td>\n",
              "      <td>9.9</td>\n",
              "      <td>6</td>\n",
              "      <td>branco</td>\n",
              "    </tr>\n",
              "  </tbody>\n",
              "</table>\n",
              "</div>"
            ],
            "text/plain": [
              "   fixed acidity  volatile acidity  citric acid  residual sugar  chlorides  \\\n",
              "0            7.0              0.27         0.36            20.7      0.045   \n",
              "1            6.3              0.30         0.34             1.6      0.049   \n",
              "2            8.1              0.28         0.40             6.9      0.050   \n",
              "3            7.2              0.23         0.32             8.5      0.058   \n",
              "4            7.2              0.23         0.32             8.5      0.058   \n",
              "\n",
              "   free sulfur dioxide  total sulfur dioxide  density    pH  sulphates  \\\n",
              "0                 45.0                 170.0   1.0010  3.00       0.45   \n",
              "1                 14.0                 132.0   0.9940  3.30       0.49   \n",
              "2                 30.0                  97.0   0.9951  3.26       0.44   \n",
              "3                 47.0                 186.0   0.9956  3.19       0.40   \n",
              "4                 47.0                 186.0   0.9956  3.19       0.40   \n",
              "\n",
              "   alcohol  quality    tipo  \n",
              "0      8.8        6  branco  \n",
              "1      9.5        6  branco  \n",
              "2     10.1        6  branco  \n",
              "3      9.9        6  branco  \n",
              "4      9.9        6  branco  "
            ]
          },
          "execution_count": 8,
          "metadata": {},
          "output_type": "execute_result"
        }
      ],
      "source": [
        "#Mostrando as linhas do df VinhoBranco\n",
        "df_VinhoBranco.head()"
      ]
    },
    {
      "cell_type": "markdown",
      "id": "e2bb8b44",
      "metadata": {
        "id": "e2bb8b44"
      },
      "source": [
        "# Análise de Dados\n",
        "\n",
        "Nesta etapa de análise exploratória, estou investigando o df Wine Quality para entender melhor como as variáveis se comportam e quais delas influenciam na qualidade dos vinhos. A ideia é observar a distribuição dos dados, identificar possíveis padrões e relações entre as variáveis, além de detectar outliers."
      ]
    },
    {
      "cell_type": "markdown",
      "id": "3925d9c9",
      "metadata": {
        "id": "3925d9c9"
      },
      "source": [
        "Tipo de dados - Vinho Branco"
      ]
    },
    {
      "cell_type": "code",
      "execution_count": null,
      "id": "5eadb417",
      "metadata": {
        "id": "5eadb417",
        "outputId": "5147a459-6c3b-4566-d1ad-9294f9579851"
      },
      "outputs": [
        {
          "name": "stdout",
          "output_type": "stream",
          "text": [
            "Tipo de dados por Coluna\n",
            "<class 'pandas.core.frame.DataFrame'>\n",
            "RangeIndex: 4898 entries, 0 to 4897\n",
            "Data columns (total 13 columns):\n",
            " #   Column                Non-Null Count  Dtype  \n",
            "---  ------                --------------  -----  \n",
            " 0   fixed acidity         4898 non-null   float64\n",
            " 1   volatile acidity      4898 non-null   float64\n",
            " 2   citric acid           4898 non-null   float64\n",
            " 3   residual sugar        4898 non-null   float64\n",
            " 4   chlorides             4898 non-null   float64\n",
            " 5   free sulfur dioxide   4898 non-null   float64\n",
            " 6   total sulfur dioxide  4898 non-null   float64\n",
            " 7   density               4898 non-null   float64\n",
            " 8   pH                    4898 non-null   float64\n",
            " 9   sulphates             4898 non-null   float64\n",
            " 10  alcohol               4898 non-null   float64\n",
            " 11  quality               4898 non-null   int64  \n",
            " 12  tipo                  4898 non-null   object \n",
            "dtypes: float64(11), int64(1), object(1)\n",
            "memory usage: 497.6+ KB\n"
          ]
        }
      ],
      "source": [
        "print(\"Tipo de dados por Coluna\")\n",
        "df_VinhoBranco.info()"
      ]
    },
    {
      "cell_type": "code",
      "execution_count": null,
      "id": "d171cf5f",
      "metadata": {
        "id": "d171cf5f",
        "outputId": "035243eb-19f4-40bf-f40f-4c039fe22f2c"
      },
      "outputs": [
        {
          "name": "stdout",
          "output_type": "stream",
          "text": [
            "Tipo de dados por Coluna\n",
            "<class 'pandas.core.frame.DataFrame'>\n",
            "RangeIndex: 1599 entries, 0 to 1598\n",
            "Data columns (total 13 columns):\n",
            " #   Column                Non-Null Count  Dtype  \n",
            "---  ------                --------------  -----  \n",
            " 0   fixed acidity         1599 non-null   float64\n",
            " 1   volatile acidity      1599 non-null   float64\n",
            " 2   citric acid           1599 non-null   float64\n",
            " 3   residual sugar        1599 non-null   float64\n",
            " 4   chlorides             1599 non-null   float64\n",
            " 5   free sulfur dioxide   1599 non-null   float64\n",
            " 6   total sulfur dioxide  1599 non-null   float64\n",
            " 7   density               1599 non-null   float64\n",
            " 8   pH                    1599 non-null   float64\n",
            " 9   sulphates             1599 non-null   float64\n",
            " 10  alcohol               1599 non-null   float64\n",
            " 11  quality               1599 non-null   int64  \n",
            " 12  tipo                  1599 non-null   object \n",
            "dtypes: float64(11), int64(1), object(1)\n",
            "memory usage: 162.5+ KB\n"
          ]
        }
      ],
      "source": [
        "print(\"Tipo de dados por Coluna\")\n",
        "df_VinhoTinto.info()"
      ]
    },
    {
      "cell_type": "markdown",
      "id": "9468a586",
      "metadata": {
        "id": "9468a586"
      },
      "source": [
        "## Estatísticas Descritivas\n"
      ]
    },
    {
      "cell_type": "code",
      "execution_count": null,
      "id": "8293e3aa",
      "metadata": {
        "id": "8293e3aa",
        "outputId": "de1c3a95-2c74-408b-ffc5-54d5b17149ea"
      },
      "outputs": [
        {
          "data": {
            "text/html": [
              "<div>\n",
              "<style scoped>\n",
              "    .dataframe tbody tr th:only-of-type {\n",
              "        vertical-align: middle;\n",
              "    }\n",
              "\n",
              "    .dataframe tbody tr th {\n",
              "        vertical-align: top;\n",
              "    }\n",
              "\n",
              "    .dataframe thead th {\n",
              "        text-align: right;\n",
              "    }\n",
              "</style>\n",
              "<table border=\"1\" class=\"dataframe\">\n",
              "  <thead>\n",
              "    <tr style=\"text-align: right;\">\n",
              "      <th></th>\n",
              "      <th>fixed acidity</th>\n",
              "      <th>volatile acidity</th>\n",
              "      <th>citric acid</th>\n",
              "      <th>residual sugar</th>\n",
              "      <th>chlorides</th>\n",
              "      <th>free sulfur dioxide</th>\n",
              "      <th>total sulfur dioxide</th>\n",
              "      <th>density</th>\n",
              "      <th>pH</th>\n",
              "      <th>sulphates</th>\n",
              "      <th>alcohol</th>\n",
              "      <th>quality</th>\n",
              "    </tr>\n",
              "  </thead>\n",
              "  <tbody>\n",
              "    <tr>\n",
              "      <th>count</th>\n",
              "      <td>6497.000000</td>\n",
              "      <td>6497.000000</td>\n",
              "      <td>6497.000000</td>\n",
              "      <td>6497.000000</td>\n",
              "      <td>6497.000000</td>\n",
              "      <td>6497.000000</td>\n",
              "      <td>6497.000000</td>\n",
              "      <td>6497.000000</td>\n",
              "      <td>6497.000000</td>\n",
              "      <td>6497.000000</td>\n",
              "      <td>6497.000000</td>\n",
              "      <td>6497.000000</td>\n",
              "    </tr>\n",
              "    <tr>\n",
              "      <th>mean</th>\n",
              "      <td>7.215307</td>\n",
              "      <td>0.339666</td>\n",
              "      <td>0.318633</td>\n",
              "      <td>5.443235</td>\n",
              "      <td>0.056034</td>\n",
              "      <td>30.525319</td>\n",
              "      <td>115.744574</td>\n",
              "      <td>0.994697</td>\n",
              "      <td>3.218501</td>\n",
              "      <td>0.531268</td>\n",
              "      <td>10.491801</td>\n",
              "      <td>5.818378</td>\n",
              "    </tr>\n",
              "    <tr>\n",
              "      <th>std</th>\n",
              "      <td>1.296434</td>\n",
              "      <td>0.164636</td>\n",
              "      <td>0.145318</td>\n",
              "      <td>4.757804</td>\n",
              "      <td>0.035034</td>\n",
              "      <td>17.749400</td>\n",
              "      <td>56.521855</td>\n",
              "      <td>0.002999</td>\n",
              "      <td>0.160787</td>\n",
              "      <td>0.148806</td>\n",
              "      <td>1.192712</td>\n",
              "      <td>0.873255</td>\n",
              "    </tr>\n",
              "    <tr>\n",
              "      <th>min</th>\n",
              "      <td>3.800000</td>\n",
              "      <td>0.080000</td>\n",
              "      <td>0.000000</td>\n",
              "      <td>0.600000</td>\n",
              "      <td>0.009000</td>\n",
              "      <td>1.000000</td>\n",
              "      <td>6.000000</td>\n",
              "      <td>0.987110</td>\n",
              "      <td>2.720000</td>\n",
              "      <td>0.220000</td>\n",
              "      <td>8.000000</td>\n",
              "      <td>3.000000</td>\n",
              "    </tr>\n",
              "    <tr>\n",
              "      <th>25%</th>\n",
              "      <td>6.400000</td>\n",
              "      <td>0.230000</td>\n",
              "      <td>0.250000</td>\n",
              "      <td>1.800000</td>\n",
              "      <td>0.038000</td>\n",
              "      <td>17.000000</td>\n",
              "      <td>77.000000</td>\n",
              "      <td>0.992340</td>\n",
              "      <td>3.110000</td>\n",
              "      <td>0.430000</td>\n",
              "      <td>9.500000</td>\n",
              "      <td>5.000000</td>\n",
              "    </tr>\n",
              "    <tr>\n",
              "      <th>50%</th>\n",
              "      <td>7.000000</td>\n",
              "      <td>0.290000</td>\n",
              "      <td>0.310000</td>\n",
              "      <td>3.000000</td>\n",
              "      <td>0.047000</td>\n",
              "      <td>29.000000</td>\n",
              "      <td>118.000000</td>\n",
              "      <td>0.994890</td>\n",
              "      <td>3.210000</td>\n",
              "      <td>0.510000</td>\n",
              "      <td>10.300000</td>\n",
              "      <td>6.000000</td>\n",
              "    </tr>\n",
              "    <tr>\n",
              "      <th>75%</th>\n",
              "      <td>7.700000</td>\n",
              "      <td>0.400000</td>\n",
              "      <td>0.390000</td>\n",
              "      <td>8.100000</td>\n",
              "      <td>0.065000</td>\n",
              "      <td>41.000000</td>\n",
              "      <td>156.000000</td>\n",
              "      <td>0.996990</td>\n",
              "      <td>3.320000</td>\n",
              "      <td>0.600000</td>\n",
              "      <td>11.300000</td>\n",
              "      <td>6.000000</td>\n",
              "    </tr>\n",
              "    <tr>\n",
              "      <th>max</th>\n",
              "      <td>15.900000</td>\n",
              "      <td>1.580000</td>\n",
              "      <td>1.660000</td>\n",
              "      <td>65.800000</td>\n",
              "      <td>0.611000</td>\n",
              "      <td>289.000000</td>\n",
              "      <td>440.000000</td>\n",
              "      <td>1.038980</td>\n",
              "      <td>4.010000</td>\n",
              "      <td>2.000000</td>\n",
              "      <td>14.900000</td>\n",
              "      <td>9.000000</td>\n",
              "    </tr>\n",
              "  </tbody>\n",
              "</table>\n",
              "</div>"
            ],
            "text/plain": [
              "       fixed acidity  volatile acidity  citric acid  residual sugar  \\\n",
              "count    6497.000000       6497.000000  6497.000000     6497.000000   \n",
              "mean        7.215307          0.339666     0.318633        5.443235   \n",
              "std         1.296434          0.164636     0.145318        4.757804   \n",
              "min         3.800000          0.080000     0.000000        0.600000   \n",
              "25%         6.400000          0.230000     0.250000        1.800000   \n",
              "50%         7.000000          0.290000     0.310000        3.000000   \n",
              "75%         7.700000          0.400000     0.390000        8.100000   \n",
              "max        15.900000          1.580000     1.660000       65.800000   \n",
              "\n",
              "         chlorides  free sulfur dioxide  total sulfur dioxide      density  \\\n",
              "count  6497.000000          6497.000000           6497.000000  6497.000000   \n",
              "mean      0.056034            30.525319            115.744574     0.994697   \n",
              "std       0.035034            17.749400             56.521855     0.002999   \n",
              "min       0.009000             1.000000              6.000000     0.987110   \n",
              "25%       0.038000            17.000000             77.000000     0.992340   \n",
              "50%       0.047000            29.000000            118.000000     0.994890   \n",
              "75%       0.065000            41.000000            156.000000     0.996990   \n",
              "max       0.611000           289.000000            440.000000     1.038980   \n",
              "\n",
              "                pH    sulphates      alcohol      quality  \n",
              "count  6497.000000  6497.000000  6497.000000  6497.000000  \n",
              "mean      3.218501     0.531268    10.491801     5.818378  \n",
              "std       0.160787     0.148806     1.192712     0.873255  \n",
              "min       2.720000     0.220000     8.000000     3.000000  \n",
              "25%       3.110000     0.430000     9.500000     5.000000  \n",
              "50%       3.210000     0.510000    10.300000     6.000000  \n",
              "75%       3.320000     0.600000    11.300000     6.000000  \n",
              "max       4.010000     2.000000    14.900000     9.000000  "
            ]
          },
          "execution_count": 11,
          "metadata": {},
          "output_type": "execute_result"
        }
      ],
      "source": [
        "df_vinhos.describe()"
      ]
    },
    {
      "cell_type": "markdown",
      "id": "ca113fdd",
      "metadata": {
        "id": "ca113fdd"
      },
      "source": [
        "O gráfico em barras mostra a média de açucar dos vinhos branco e tinto por nível de qualidade."
      ]
    },
    {
      "cell_type": "code",
      "execution_count": null,
      "id": "e183d7c2",
      "metadata": {
        "id": "e183d7c2",
        "outputId": "74be4222-10ff-4a92-9125-7dd122ae7f9d"
      },
      "outputs": [
        {
          "data": {
            "image/png": "[encoded data removed]",
            "text/plain": [
              "<Figure size 800x500 with 1 Axes>"
            ]
          },
          "metadata": {},
          "output_type": "display_data"
        }
      ],
      "source": [
        "# Calcular média do açúcar residual por tipo e qualidade\n",
        "media_acucar = df_vinhos.groupby(['tipo', 'quality'])['residual sugar'].mean().reset_index()\n",
        "\n",
        "# Gráfico de barras com separação por tipo\n",
        "plt.figure(figsize=(8, 5))\n",
        "sns.barplot(x='quality', y='residual sugar', hue='tipo', data=media_acucar, palette='Set2')\n",
        "plt.title('Média do açúcar residual por nível de qualidade e tipo de vinho')\n",
        "plt.xlabel('Nível de qualidade')\n",
        "plt.ylabel('Açúcar residual médio')\n",
        "plt.legend(title='Tipo de vinho')\n",
        "plt.tight_layout()\n",
        "plt.show()"
      ]
    },
    {
      "cell_type": "markdown",
      "id": "07be869e",
      "metadata": {
        "id": "07be869e"
      },
      "source": [
        "Este gráfico apresenta um heatmap de correlação entre os principais atributos físico-químicos do vinho: Álcool, Densidade, pH e a Qualidade avaliada sensorialmente."
      ]
    },
    {
      "cell_type": "code",
      "execution_count": null,
      "id": "ea942e9b",
      "metadata": {
        "id": "ea942e9b",
        "outputId": "e94c8016-3929-44aa-df9b-58a5eda2663f"
      },
      "outputs": [
        {
          "data": {
            "image/png": "[encoded data removed]",
            "text/plain": [
              "<Figure size 600x400 with 2 Axes>"
            ]
          },
          "metadata": {},
          "output_type": "display_data"
        }
      ],
      "source": [
        "\n",
        "# Selecionando as colunas alcohol, density, pH, quality, tipo\n",
        "colunas = ['alcohol', 'density', 'quality']\n",
        "df = df_vinhos[colunas]\n",
        "df_colunasRenomeadas = df.rename(columns={\n",
        "    'alcohol': 'Álcool',\n",
        "    'density': 'Densidade',\n",
        "    'quality': 'Qualidade'\n",
        "})\n",
        "# Heatmap de correlação\n",
        "plt.figure(figsize=(6, 4))\n",
        "sns.heatmap(df_colunasRenomeadas.corr(), annot=True, cmap='coolwarm')\n",
        "plt.title('Correlação entre atributos físico-químicos e qualidade')\n",
        "plt.tight_layout()\n",
        "plt.show()"
      ]
    },
    {
      "cell_type": "markdown",
      "id": "c5b0b35d",
      "metadata": {
        "id": "c5b0b35d"
      },
      "source": [
        "Distribuição do pH por nível de qualidade do vinho"
      ]
    },
    {
      "cell_type": "code",
      "execution_count": null,
      "id": "f5aeb397",
      "metadata": {
        "id": "f5aeb397",
        "outputId": "db678dc5-3419-4d49-8d43-1c9a1fc2f3e1"
      },
      "outputs": [
        {
          "data": {
            "image/png": "[encoded data removed]",
            "text/plain": [
              "<Figure size 600x400 with 1 Axes>"
            ]
          },
          "metadata": {},
          "output_type": "display_data"
        }
      ],
      "source": [
        "plt.figure(figsize=(6, 4))\n",
        "sns.boxplot(data=df_vinhos, x='quality', y='pH')\n",
        "plt.title(f'Nivel de pH por nível de qualidade do vinho')\n",
        "plt.tight_layout()\n",
        "plt.show()"
      ]
    },
    {
      "cell_type": "markdown",
      "id": "4dd427e9",
      "metadata": {
        "id": "4dd427e9"
      },
      "source": [
        "Densidade por tipo de vinho"
      ]
    },
    {
      "cell_type": "code",
      "execution_count": null,
      "id": "a4ffdc9e",
      "metadata": {
        "id": "a4ffdc9e",
        "outputId": "cb1deccc-ea78-4ee0-b90d-74b2f8ec9e02"
      },
      "outputs": [
        {
          "data": {
            "image/png": "[encoded data removed]",
            "text/plain": [
              "<Figure size 600x400 with 1 Axes>"
            ]
          },
          "metadata": {},
          "output_type": "display_data"
        }
      ],
      "source": [
        "# Boxplots - Densidade por tipo de vinho\n",
        "plt.figure(figsize=(6, 4))\n",
        "sns.boxplot(data=df_vinhos, x='tipo', y='density')\n",
        "plt.title(f'Densidade por tipo de vinho')\n",
        "plt.ylabel('Densidade')\n",
        "plt.tight_layout()\n",
        "plt.show()"
      ]
    },
    {
      "cell_type": "markdown",
      "id": "09e4f109",
      "metadata": {
        "id": "09e4f109"
      },
      "source": [
        "Este gráfico é um pairplot que compara os vinhos tintos e brancos com base em duas variáveis físico-químicas: álcool e densidade."
      ]
    },
    {
      "cell_type": "code",
      "execution_count": null,
      "id": "48ae00cf",
      "metadata": {
        "id": "48ae00cf",
        "outputId": "95fe0914-cf59-4cdb-c170-925edd7ce99b"
      },
      "outputs": [
        {
          "data": {
            "image/png": "[encoded data removed]",
            "text/plain": [
              "<Figure size 598.125x500 with 6 Axes>"
            ]
          },
          "metadata": {},
          "output_type": "display_data"
        }
      ],
      "source": [
        "df_ad = df_vinhos.rename(columns={\n",
        "    'alcohol': 'Álcool',\n",
        "    'density': 'Densidade',\n",
        "    'tipo': 'Tipo'\n",
        "})\n",
        "sns.pairplot(df_ad, vars=['Álcool', 'Densidade'], hue='Tipo', palette='Set1')\n",
        "plt.suptitle('Relação entre Álcool e Densidade por Tipo de Vinho', y=1.02)\n",
        "plt.tight_layout()\n",
        "plt.show()\n"
      ]
    },
    {
      "cell_type": "markdown",
      "id": "20d115d2",
      "metadata": {
        "id": "20d115d2"
      },
      "source": [
        "# Pré-Processamento de Dados\n",
        "\n"
      ]
    },
    {
      "cell_type": "code",
      "execution_count": null,
      "id": "3dff370f",
      "metadata": {
        "id": "3dff370f",
        "outputId": "3e5739f8-2046-4b2e-d5c6-ea52f782dd3a"
      },
      "outputs": [
        {
          "name": "stdout",
          "output_type": "stream",
          "text": [
            "<class 'pandas.core.frame.DataFrame'>\n",
            "RangeIndex: 1599 entries, 0 to 1598\n",
            "Data columns (total 13 columns):\n",
            " #   Column                Non-Null Count  Dtype  \n",
            "---  ------                --------------  -----  \n",
            " 0   fixed acidity         1599 non-null   float64\n",
            " 1   volatile acidity      1599 non-null   float64\n",
            " 2   citric acid           1599 non-null   float64\n",
            " 3   residual sugar        1599 non-null   float64\n",
            " 4   chlorides             1599 non-null   float64\n",
            " 5   free sulfur dioxide   1599 non-null   float64\n",
            " 6   total sulfur dioxide  1599 non-null   float64\n",
            " 7   density               1599 non-null   float64\n",
            " 8   pH                    1599 non-null   float64\n",
            " 9   sulphates             1599 non-null   float64\n",
            " 10  alcohol               1599 non-null   float64\n",
            " 11  quality               1599 non-null   int64  \n",
            " 12  tipo                  1599 non-null   object \n",
            "dtypes: float64(11), int64(1), object(1)\n",
            "memory usage: 162.5+ KB\n",
            "<class 'pandas.core.frame.DataFrame'>\n",
            "RangeIndex: 4898 entries, 0 to 4897\n",
            "Data columns (total 13 columns):\n",
            " #   Column                Non-Null Count  Dtype  \n",
            "---  ------                --------------  -----  \n",
            " 0   fixed acidity         4898 non-null   float64\n",
            " 1   volatile acidity      4898 non-null   float64\n",
            " 2   citric acid           4898 non-null   float64\n",
            " 3   residual sugar        4898 non-null   float64\n",
            " 4   chlorides             4898 non-null   float64\n",
            " 5   free sulfur dioxide   4898 non-null   float64\n",
            " 6   total sulfur dioxide  4898 non-null   float64\n",
            " 7   density               4898 non-null   float64\n",
            " 8   pH                    4898 non-null   float64\n",
            " 9   sulphates             4898 non-null   float64\n",
            " 10  alcohol               4898 non-null   float64\n",
            " 11  quality               4898 non-null   int64  \n",
            " 12  tipo                  4898 non-null   object \n",
            "dtypes: float64(11), int64(1), object(1)\n",
            "memory usage: 497.6+ KB\n"
          ]
        }
      ],
      "source": [
        "df_VinhoTinto.info() #Total de linhas: 1599\n",
        "df_VinhoBranco.info() #Total de linhas: 4898"
      ]
    },
    {
      "cell_type": "markdown",
      "id": "891d714d",
      "metadata": {
        "id": "891d714d"
      },
      "source": [
        "Removendo outliers (se houver)"
      ]
    },
    {
      "cell_type": "code",
      "execution_count": null,
      "id": "d9fce908",
      "metadata": {
        "id": "d9fce908"
      },
      "outputs": [],
      "source": [
        "Q1 = df_VinhoTinto['density'].quantile(0.25)\n",
        "Q3 = df_VinhoTinto['density'].quantile(0.75)\n",
        "IQR = Q3 - Q1\n",
        "df_Tinto = df_VinhoTinto[(df_VinhoTinto['density'] >= Q1 - 1.5 * IQR) & (df_VinhoTinto['density'] <= Q3 + 1.5 * IQR)]"
      ]
    },
    {
      "cell_type": "code",
      "execution_count": null,
      "id": "91e7cb79",
      "metadata": {
        "id": "91e7cb79"
      },
      "outputs": [],
      "source": [
        "Q1 = df_VinhoBranco['density'].quantile(0.25)\n",
        "Q3 = df_VinhoBranco['density'].quantile(0.75)\n",
        "IQR = Q3 - Q1\n",
        "df_Branco = df_VinhoBranco[(df_VinhoBranco['density'] >= Q1 - 1.5 * IQR) & (df_VinhoBranco['density'] <= Q3 + 1.5 * IQR)]"
      ]
    },
    {
      "cell_type": "code",
      "execution_count": null,
      "id": "6e18db0d",
      "metadata": {
        "id": "6e18db0d"
      },
      "outputs": [],
      "source": [
        "df_vinhosTratado = pd.concat([df_Tinto, df_Branco], ignore_index=True)"
      ]
    },
    {
      "cell_type": "markdown",
      "id": "47b577fa",
      "metadata": {
        "id": "47b577fa"
      },
      "source": [
        "Tinto   \n",
        "Linhas antes: 1599  \n",
        "Depois: 1554\n",
        "    \n",
        "Branco  \n",
        "Linhas antes: 4898  \n",
        "Depois: 4893"
      ]
    },
    {
      "cell_type": "code",
      "execution_count": null,
      "id": "6541eb4e",
      "metadata": {
        "id": "6541eb4e",
        "outputId": "c112b1f0-e99b-4c95-944a-3b02e39d43e6"
      },
      "outputs": [
        {
          "name": "stdout",
          "output_type": "stream",
          "text": [
            "<class 'pandas.core.frame.DataFrame'>\n",
            "Index: 4893 entries, 0 to 4897\n",
            "Data columns (total 13 columns):\n",
            " #   Column                Non-Null Count  Dtype  \n",
            "---  ------                --------------  -----  \n",
            " 0   fixed acidity         4893 non-null   float64\n",
            " 1   volatile acidity      4893 non-null   float64\n",
            " 2   citric acid           4893 non-null   float64\n",
            " 3   residual sugar        4893 non-null   float64\n",
            " 4   chlorides             4893 non-null   float64\n",
            " 5   free sulfur dioxide   4893 non-null   float64\n",
            " 6   total sulfur dioxide  4893 non-null   float64\n",
            " 7   density               4893 non-null   float64\n",
            " 8   pH                    4893 non-null   float64\n",
            " 9   sulphates             4893 non-null   float64\n",
            " 10  alcohol               4893 non-null   float64\n",
            " 11  quality               4893 non-null   int64  \n",
            " 12  tipo                  4893 non-null   object \n",
            "dtypes: float64(11), int64(1), object(1)\n",
            "memory usage: 535.2+ KB\n",
            "<class 'pandas.core.frame.DataFrame'>\n",
            "Index: 4893 entries, 0 to 4897\n",
            "Data columns (total 13 columns):\n",
            " #   Column                Non-Null Count  Dtype  \n",
            "---  ------                --------------  -----  \n",
            " 0   fixed acidity         4893 non-null   float64\n",
            " 1   volatile acidity      4893 non-null   float64\n",
            " 2   citric acid           4893 non-null   float64\n",
            " 3   residual sugar        4893 non-null   float64\n",
            " 4   chlorides             4893 non-null   float64\n",
            " 5   free sulfur dioxide   4893 non-null   float64\n",
            " 6   total sulfur dioxide  4893 non-null   float64\n",
            " 7   density               4893 non-null   float64\n",
            " 8   pH                    4893 non-null   float64\n",
            " 9   sulphates             4893 non-null   float64\n",
            " 10  alcohol               4893 non-null   float64\n",
            " 11  quality               4893 non-null   int64  \n",
            " 12  tipo                  4893 non-null   object \n",
            "dtypes: float64(11), int64(1), object(1)\n",
            "memory usage: 535.2+ KB\n"
          ]
        }
      ],
      "source": [
        "df_Tinto.info() #linhas após a remoção: 1554\n",
        "df_Branco.info() #linhas após a remoção: 4893"
      ]
    },
    {
      "cell_type": "markdown",
      "id": "5e9e5cdd",
      "metadata": {
        "id": "5e9e5cdd"
      },
      "source": [
        "## Padronização"
      ]
    },
    {
      "cell_type": "markdown",
      "id": "93a03a44",
      "metadata": {
        "id": "93a03a44"
      },
      "source": [
        "## Divisão em treino e teste\n",
        "\n",
        "Após o pré-processamento dos dados (remoção de outliers, normalização/padronização, tratamento de valores ausentes), os dados foram divididos em conjunto de treino e teste. Essa divisão permite avaliar a performance do modelo com dados que ele nunca viu antes, evitando overfitting.\n"
      ]
    },
    {
      "cell_type": "markdown",
      "id": "103deff5",
      "metadata": {
        "id": "103deff5"
      },
      "source": [
        "Transforma os dados para que tenham média = 0 e desvio padrão = 1"
      ]
    },
    {
      "cell_type": "code",
      "execution_count": null,
      "id": "3ebc93e6",
      "metadata": {
        "id": "3ebc93e6"
      },
      "outputs": [],
      "source": [
        "#Colunas para padronização\n",
        "colunas = ['alcohol', 'density', 'pH', 'residual sugar']"
      ]
    },
    {
      "cell_type": "code",
      "execution_count": null,
      "id": "169f9aa4",
      "metadata": {
        "id": "169f9aa4"
      },
      "outputs": [],
      "source": [
        "#iniciando StandardScaler\n",
        "scaler = StandardScaler()"
      ]
    },
    {
      "cell_type": "code",
      "execution_count": null,
      "id": "4c74da3a",
      "metadata": {
        "id": "4c74da3a"
      },
      "outputs": [],
      "source": [
        "#Define X e y\n",
        "X = df_vinhosTratado[colunas]\n",
        "y = df_vinhosTratado['quality']"
      ]
    },
    {
      "cell_type": "code",
      "execution_count": null,
      "id": "44bd4390",
      "metadata": {
        "id": "44bd4390"
      },
      "outputs": [],
      "source": [
        "# Divide em treino e teste\n",
        "X_train, X_test, y_train, y_test = train_test_split(X, y, test_size=0.3, random_state=42)\n",
        "\n",
        "# Padroniza após o split para evitar vazamento de dados.\n",
        "# O scaler é ajustado apenas nos dados de treino.\n",
        "scaler = StandardScaler()\n",
        "X_train_scaled = scaler.fit_transform(X_train)  # aprende com treino\n",
        "X_test_scaled = scaler.transform(X_test)        # aplica no teste"
      ]
    },
    {
      "cell_type": "code",
      "execution_count": null,
      "id": "812dfbd2",
      "metadata": {
        "id": "812dfbd2"
      },
      "outputs": [],
      "source": [
        "X_train_scaled = pd.DataFrame(X_train_scaled, columns=colunas)\n",
        "X_test_scaled = pd.DataFrame(X_test_scaled, columns=colunas)"
      ]
    },
    {
      "cell_type": "code",
      "execution_count": null,
      "id": "6e2b5e8e",
      "metadata": {
        "id": "6e2b5e8e",
        "outputId": "de4b1bfa-1e2b-4ea2-e587-9bb933dd5bd0"
      },
      "outputs": [
        {
          "name": "stdout",
          "output_type": "stream",
          "text": [
            "Primeiras 5 linhas do treino padronizado\n",
            "    alcohol   density        pH  residual sugar\n",
            "0  0.313552 -0.555206  0.739127       -0.714753\n",
            "1 -0.011456  0.678581  0.474508        1.292036\n",
            "2  0.232300 -0.215568 -0.385504        0.096071\n",
            "3 -0.498967  1.385583  1.334520        1.271765\n",
            "4 -0.905227 -0.104666  0.805282       -1.018812\n"
          ]
        }
      ],
      "source": [
        "\n",
        "print(\"Primeiras 5 linhas do treino padronizado\")\n",
        "print(X_train_scaled.head())"
      ]
    },
    {
      "cell_type": "code",
      "execution_count": null,
      "id": "d93f8a27",
      "metadata": {
        "id": "d93f8a27",
        "outputId": "f02fda61-457a-41c6-b07e-d2fc48458f7b"
      },
      "outputs": [
        {
          "data": {
            "image/png": "[encoded data removed]",
            "text/plain": [
              "<Figure size 600x400 with 1 Axes>"
            ]
          },
          "metadata": {},
          "output_type": "display_data"
        }
      ],
      "source": [
        "plt.figure(figsize=(6, 4))\n",
        "sns.boxplot(data=df_padronizado, x='quality', y='pH')\n",
        "plt.title(f'Nivel de pH por nível de qualidade do vinho(padronizado)')\n",
        "plt.tight_layout()\n",
        "plt.show()"
      ]
    },
    {
      "cell_type": "markdown",
      "id": "007143f4",
      "metadata": {
        "id": "007143f4"
      },
      "source": [
        "## Tratamento de valores Nulos"
      ]
    },
    {
      "cell_type": "code",
      "execution_count": null,
      "id": "66c6ecad",
      "metadata": {
        "id": "66c6ecad",
        "outputId": "da413d71-9424-401b-9a13-6f0275a8c886"
      },
      "outputs": [
        {
          "name": "stdout",
          "output_type": "stream",
          "text": [
            "Valores nulos no dataset Iris:\n"
          ]
        },
        {
          "data": {
            "text/plain": [
              "fixed acidity           0\n",
              "volatile acidity        0\n",
              "citric acid             0\n",
              "residual sugar          0\n",
              "chlorides               0\n",
              "free sulfur dioxide     0\n",
              "total sulfur dioxide    0\n",
              "density                 0\n",
              "pH                      0\n",
              "sulphates               0\n",
              "alcohol                 0\n",
              "quality                 0\n",
              "tipo                    0\n",
              "dtype: int64"
            ]
          },
          "execution_count": 88,
          "metadata": {},
          "output_type": "execute_result"
        }
      ],
      "source": [
        "# Verificando a presença de valores Nulos\n",
        "print(\"Valores nulos no dataset Iris:\")\n",
        "df_vinhos.isnull().sum()"
      ]
    },
    {
      "cell_type": "markdown",
      "id": "63792861",
      "metadata": {
        "id": "63792861"
      },
      "source": [
        "# Conclusão\n"
      ]
    },
    {
      "cell_type": "markdown",
      "id": "6a8b352f",
      "metadata": {
        "id": "6a8b352f"
      },
      "source": [
        "1. Qual a distribuição de densidade por tipo de vinho?  \n",
        "Utilizei boxplots para analisar a distribuição da densidade com base no tipo de vinho (tinto ou branco), após combinar ambos os conjuntos em um único DataFrame df_vinhos.\n",
        "Com ele, foi possível observar que os vinhos brancos tendem a apresentar densidade menor do que os tintos.     \n",
        "\n",
        "2. Como a quantidade média de açúcar residual varia de acordo com a qualidade e o tipo de vinho?\n",
        "A análise do gráfico de barras mostrou que a média do açúcar residual varia conforme a qualidade e o tipo do vinho. Vinhos brancos geralmente apresentam níveis mais altos de açúcar residual do que vinhos tintos. Os vinhos tintos possuem quase a mesma média de açucar independentes do nível de qualidade.\n",
        "\n",
        "\n",
        "3. É possível diferenciar o tipo de vinho com base em álcool e densidade?\n",
        "Sim, a análise gráfica evidenciou que vinhos tintos e brancos possuem padrões distintos em relação ao teor alcoólico e densidade. Vinhos brancos tendem a apresentar maior densidade."
      ]
    }
  ],
  "metadata": {
    "kernelspec": {
      "display_name": "Python 3",
      "language": "python",
      "name": "python3"
    },
    "language_info": {
      "codemirror_mode": {
        "name": "ipython",
        "version": 3
      },
      "file_extension": ".py",
      "mimetype": "text/x-python",
      "name": "python",
      "nbconvert_exporter": "python",
      "pygments_lexer": "ipython3",
      "version": "3.12.8"
    },
    "colab": {
      "provenance": [],
      "include_colab_link": true
    }
  },
  "nbformat": 4,
  "nbformat_minor": 5
}